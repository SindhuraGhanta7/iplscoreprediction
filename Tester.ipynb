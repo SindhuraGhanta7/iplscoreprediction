{
 "cells": [
  {
   "cell_type": "code",
   "execution_count": 31,
   "id": "52c70e3f",
   "metadata": {},
   "outputs": [
    {
     "name": "stdout",
     "output_type": "stream",
     "text": [
      "\n",
      "Enter Match Details for Prediction:\n",
      "Enter Batting Team: Punjab Kings\n",
      "Enter Bowling Team: Gujarat Titans\n",
      "Enter City: Ahmedabad\n",
      "Enter Overs Completed: 14\n",
      "Enter Wickets Fallen: 6\n",
      "Enter Target Runs (if chasing, else 0): 150\n",
      "Enter Runs Scored So Far: 80\n",
      "\n",
      "🏏 Predicted Final Score: 161 Runs\n"
     ]
    }
   ],
   "source": [
    "import pandas as pd\n",
    "import numpy as np\n",
    "import joblib  # For loading saved models\n",
    "from xgboost import XGBRegressor\n",
    "\n",
    "# Load the trained model\n",
    "model = XGBRegressor()\n",
    "model.load_model(\"xgboost_model.json\")  # Load the saved XGBoost model\n",
    "\n",
    "# Function to take user input\n",
    "def get_user_input():\n",
    "    print(\"\\nEnter Match Details for Prediction:\")\n",
    "    \n",
    "    batting_team = input(\"Enter Batting Team: \")\n",
    "    bowling_team = input(\"Enter Bowling Team: \")\n",
    "    city = input(\"Enter City: \")\n",
    "    overs = float(input(\"Enter Overs Completed: \"))\n",
    "    balls_left = (20 - overs) * 6\n",
    "    wickets = int(input(\"Enter Wickets Fallen: \"))\n",
    "    total_target = int(input(\"Enter Target Runs (if chasing, else 0): \"))\n",
    "    runs_scored = int(input(\"Enter Runs Scored So Far: \"))\n",
    "\n",
    "    # Calculate additional features\n",
    "    runs_left = max(0, total_target - runs_scored) if total_target > 0 else 0\n",
    "    crr = runs_scored / overs if overs > 0 else 0\n",
    "    rrr = (runs_left / (balls_left / 6)) if balls_left > 0 else 0\n",
    "\n",
    "    # Create input DataFrame\n",
    "    data = pd.DataFrame({\n",
    "        'match_id':0,\n",
    "        'batting_team': [batting_team],\n",
    "        'bowling_team': [bowling_team],\n",
    "        'city': [city],\n",
    "        'runs_left': [runs_left],\n",
    "        'balls_left': [balls_left],\n",
    "        'wickets_in_hand': [10 - wickets],\n",
    "        'CRR': [crr],\n",
    "        'RRR': [rrr]\n",
    "    })\n",
    "\n",
    "    return data\n",
    "\n",
    "# Function to preprocess data\n",
    "def preprocess_data(data):\n",
    "    # Load encoders used during training\n",
    "    teams=pd.read_csv('team_mapping.csv')\n",
    "    teams_dict = teams.set_index(teams.columns[0])[teams.columns[1]].to_dict()\n",
    "    cities=pd.read_csv('cities_mapping.csv')\n",
    "    cities_dict = cities.set_index(cities.columns[0])[cities.columns[1]].to_dict()\n",
    "    \n",
    "    # Encode categorical features\n",
    "    data['batting_team'] = data['batting_team'].map(teams_dict)\n",
    "    data['bowling_team'] = data['bowling_team'].map(teams_dict)\n",
    "    data['city'] = data['city'].map(cities_dict)\n",
    "\n",
    "    return data\n",
    "\n",
    "# Get user input\n",
    "user_data = get_user_input()\n",
    "\n",
    "# Preprocess user input\n",
    "processed_data = preprocess_data(user_data)\n",
    "\n",
    "# Predict match score\n",
    "predicted_score = model.predict(processed_data)\n",
    "\n",
    "# Show prediction\n",
    "print(f\"\\n🏏 Predicted Final Score: {int(predicted_score[0])} Runs\")"
   ]
  },
  {
   "cell_type": "code",
   "execution_count": null,
   "id": "5b19b927",
   "metadata": {},
   "outputs": [],
   "source": []
  }
 ],
 "metadata": {
  "kernelspec": {
   "display_name": "Python 3 (ipykernel)",
   "language": "python",
   "name": "python3"
  },
  "language_info": {
   "codemirror_mode": {
    "name": "ipython",
    "version": 3
   },
   "file_extension": ".py",
   "mimetype": "text/x-python",
   "name": "python",
   "nbconvert_exporter": "python",
   "pygments_lexer": "ipython3",
   "version": "3.11.4"
  }
 },
 "nbformat": 4,
 "nbformat_minor": 5
}
