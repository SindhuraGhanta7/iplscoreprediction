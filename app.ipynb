{
 "cells": [
  {
   "cell_type": "code",
   "execution_count": 1,
   "id": "afe44cba",
   "metadata": {},
   "outputs": [
    {
     "data": {
      "text/plain": [
       "'from flask import Flask, render_template, request, jsonify\\nimport pandas as pd\\nimport numpy as np\\nfrom xgboost import XGBRegressor\\n\\napp = Flask(__name__)\\n\\n# Load the trained model\\nmodel = XGBRegressor()\\nmodel.load_model(\"xgboost_model.json\")  # Ensure this file is in the same directory\\n\\n# Load mappings for teams and cities\\nteams = pd.read_csv(\"team_mapping.csv\")\\nteams_dict = teams.set_index(teams.columns[0])[teams.columns[1]].to_dict()\\n\\ncities = pd.read_csv(\"cities_mapping.csv\")\\ncities_dict = cities.set_index(cities.columns[0])[cities.columns[1]].to_dict()\\n\\n# Serve the home page\\n@app.route(\"/\")\\ndef home():\\n    return render_template(\"Home.html\")  # Ensure this file is inside the \"templates\" folder\\n\\n# Prediction API\\n@app.route(\"/predict\", methods=[\"POST\"])\\ndef predict():\\n    try:\\n        # Get data from the form (or JSON request)\\n        data = request.get_json()\\n        \\n        batting_team = data[\"batting_team\"]\\n        bowling_team = data[\"bowling_team\"]\\n        city = data[\"city\"]\\n        overs = float(data[\"overs_completed\"])\\n        wickets = int(data[\"wickets_down\"])\\n        total_target = int(data[\"target_runs\"])\\n        runs_scored = int(data[\"runs_chased\"])\\n\\n        # Compute derived features\\n        balls_left = (20 - overs) * 6\\n        runs_left = max(0, total_target - runs_scored) if total_target > 0 else 0\\n        crr = runs_scored / overs if overs > 0 else 0\\n        rrr = (runs_left / (balls_left / 6)) if balls_left > 0 else 0\\n\\n        # Convert categorical values to numerical using pre-trained mappings\\n        batting_team_encoded = teams_dict.get(batting_team, -1)\\n        bowling_team_encoded = teams_dict.get(bowling_team, -1)\\n        city_encoded = cities_dict.get(city, -1)\\n\\n        # Ensure encoding is successful\\n        if -1 in [batting_team_encoded, bowling_team_encoded, city_encoded]:\\n            return jsonify({\"error\": \"Invalid team or city name\"})\\n\\n        # Prepare input for the model\\n        features = pd.DataFrame({\\n            \"match_id\": [0],\\n            \"batting_team\": [batting_team_encoded],\\n            \"bowling_team\": [bowling_team_encoded],\\n            \"city\": [city_encoded],\\n            \"runs_left\": [runs_left],\\n            \"balls_left\": [balls_left],\\n            \"wickets_in_hand\": [10 - wickets],\\n            \"CRR\": [crr],\\n            \"RRR\": [rrr]\\n        })\\n\\n        # Predict final score\\n        predicted_score = model.predict(features)[0]\\n\\n        return jsonify({\"predicted_score\": round(predicted_score, 2)})\\n\\n    except Exception as e:\\n        return jsonify({\"error\": str(e)})\\n\\n# Run the Flask app\\nif __name__ == \"__main__\":\\n    app.run(debug=True)'"
      ]
     },
     "execution_count": 1,
     "metadata": {},
     "output_type": "execute_result"
    }
   ],
   "source": [
    "'''from flask import Flask, render_template, request, jsonify\n",
    "import pandas as pd\n",
    "import numpy as np\n",
    "from xgboost import XGBRegressor\n",
    "\n",
    "app = Flask(__name__)\n",
    "\n",
    "# Load the trained model\n",
    "model = XGBRegressor()\n",
    "model.load_model(\"xgboost_model.json\")  # Ensure this file is in the same directory\n",
    "\n",
    "# Load mappings for teams and cities\n",
    "teams = pd.read_csv(\"team_mapping.csv\")\n",
    "teams_dict = teams.set_index(teams.columns[0])[teams.columns[1]].to_dict()\n",
    "\n",
    "cities = pd.read_csv(\"cities_mapping.csv\")\n",
    "cities_dict = cities.set_index(cities.columns[0])[cities.columns[1]].to_dict()\n",
    "\n",
    "# Serve the home page\n",
    "@app.route(\"/\")\n",
    "def home():\n",
    "    return render_template(\"Home.html\")  # Ensure this file is inside the \"templates\" folder\n",
    "\n",
    "# Prediction API\n",
    "@app.route(\"/predict\", methods=[\"POST\"])\n",
    "def predict():\n",
    "    try:\n",
    "        # Get data from the form (or JSON request)\n",
    "        data = request.get_json()\n",
    "        \n",
    "        batting_team = data[\"batting_team\"]\n",
    "        bowling_team = data[\"bowling_team\"]\n",
    "        city = data[\"city\"]\n",
    "        overs = float(data[\"overs_completed\"])\n",
    "        wickets = int(data[\"wickets_down\"])\n",
    "        total_target = int(data[\"target_runs\"])\n",
    "        runs_scored = int(data[\"runs_chased\"])\n",
    "\n",
    "        # Compute derived features\n",
    "        balls_left = (20 - overs) * 6\n",
    "        runs_left = max(0, total_target - runs_scored) if total_target > 0 else 0\n",
    "        crr = runs_scored / overs if overs > 0 else 0\n",
    "        rrr = (runs_left / (balls_left / 6)) if balls_left > 0 else 0\n",
    "\n",
    "        # Convert categorical values to numerical using pre-trained mappings\n",
    "        batting_team_encoded = teams_dict.get(batting_team, -1)\n",
    "        bowling_team_encoded = teams_dict.get(bowling_team, -1)\n",
    "        city_encoded = cities_dict.get(city, -1)\n",
    "\n",
    "        # Ensure encoding is successful\n",
    "        if -1 in [batting_team_encoded, bowling_team_encoded, city_encoded]:\n",
    "            return jsonify({\"error\": \"Invalid team or city name\"})\n",
    "\n",
    "        # Prepare input for the model\n",
    "        features = pd.DataFrame({\n",
    "            \"match_id\": [0],\n",
    "            \"batting_team\": [batting_team_encoded],\n",
    "            \"bowling_team\": [bowling_team_encoded],\n",
    "            \"city\": [city_encoded],\n",
    "            \"runs_left\": [runs_left],\n",
    "            \"balls_left\": [balls_left],\n",
    "            \"wickets_in_hand\": [10 - wickets],\n",
    "            \"CRR\": [crr],\n",
    "            \"RRR\": [rrr]\n",
    "        })\n",
    "\n",
    "        # Predict final score\n",
    "        predicted_score = model.predict(features)[0]\n",
    "\n",
    "        return jsonify({\"predicted_score\": round(predicted_score, 2)})\n",
    "\n",
    "    except Exception as e:\n",
    "        return jsonify({\"error\": str(e)})\n",
    "\n",
    "# Run the Flask app\n",
    "if __name__ == \"__main__\":\n",
    "    app.run(debug=True)'''"
   ]
  },
  {
   "cell_type": "code",
   "execution_count": 2,
   "id": "813dd5f6",
   "metadata": {},
   "outputs": [
    {
     "data": {
      "text/plain": [
       "'from flask import Flask, render_template, request, jsonify\\nimport numpy as np\\nfrom xgboost import XGBRegressor\\n\\napp = Flask(__name__)\\n\\n# Load the trained model\\nmodel = XGBRegressor()\\nmodel.load_model(\"xgboost_model.json\")\\n\\n@app.route(\"/\")\\ndef home():\\n    return render_template(\"Home.html\")\\n\\n@app.route(\"/predict\", methods=[\"POST\"])\\ndef predict():\\n    try:\\n        data = request.get_json()\\n        print(\"Received data:\", data)  # Debugging print\\n\\n        # Check if all required keys exist in the JSON\\n        required_keys = [\"batting_team\", \"bowling_team\", \"overs_completed\", \"wickets_down\", \"runs_chased\", \"target_runs\"]\\n        for key in required_keys:\\n            if key not in data:\\n                return jsonify({\"error\": f\"Missing key: {key}\"})\\n\\n        # Extract values\\n        batting_team = int(data[\"batting_team\"])\\n        bowling_team = int(data[\"bowling_team\"])\\n        overs_completed = float(data[\"overs_completed\"])\\n        wickets_down = int(data[\"wickets_down\"])\\n        runs_chased = int(data[\"runs_chased\"])\\n        target_runs = int(data[\"target_runs\"])\\n\\n        # Prepare input for model\\n        features = np.array([[batting_team, bowling_team, overs_completed, wickets_down, runs_chased, target_runs]])\\n\\n        # Make prediction\\n        predicted_score = model.predict(features)[0]\\n        print(\"Predicted Score:\", predicted_score)  # Debugging print\\n\\n        return jsonify({\"predicted_score\": round(predicted_score, 2)})\\n\\n    except Exception as e:\\n        print(\"Error:\", str(e))  # Debugging print\\n        return jsonify({\"error\": str(e)})\\n\\nif __name__ == \"__main__\":\\n    app.run(debug=True)'"
      ]
     },
     "execution_count": 2,
     "metadata": {},
     "output_type": "execute_result"
    }
   ],
   "source": [
    "'''from flask import Flask, render_template, request, jsonify\n",
    "import numpy as np\n",
    "from xgboost import XGBRegressor\n",
    "\n",
    "app = Flask(__name__)\n",
    "\n",
    "# Load the trained model\n",
    "model = XGBRegressor()\n",
    "model.load_model(\"xgboost_model.json\")\n",
    "\n",
    "@app.route(\"/\")\n",
    "def home():\n",
    "    return render_template(\"Home.html\")\n",
    "\n",
    "@app.route(\"/predict\", methods=[\"POST\"])\n",
    "def predict():\n",
    "    try:\n",
    "        data = request.get_json()\n",
    "        print(\"Received data:\", data)  # Debugging print\n",
    "\n",
    "        # Check if all required keys exist in the JSON\n",
    "        required_keys = [\"batting_team\", \"bowling_team\", \"overs_completed\", \"wickets_down\", \"runs_chased\", \"target_runs\"]\n",
    "        for key in required_keys:\n",
    "            if key not in data:\n",
    "                return jsonify({\"error\": f\"Missing key: {key}\"})\n",
    "\n",
    "        # Extract values\n",
    "        batting_team = int(data[\"batting_team\"])\n",
    "        bowling_team = int(data[\"bowling_team\"])\n",
    "        overs_completed = float(data[\"overs_completed\"])\n",
    "        wickets_down = int(data[\"wickets_down\"])\n",
    "        runs_chased = int(data[\"runs_chased\"])\n",
    "        target_runs = int(data[\"target_runs\"])\n",
    "\n",
    "        # Prepare input for model\n",
    "        features = np.array([[batting_team, bowling_team, overs_completed, wickets_down, runs_chased, target_runs]])\n",
    "\n",
    "        # Make prediction\n",
    "        predicted_score = model.predict(features)[0]\n",
    "        print(\"Predicted Score:\", predicted_score)  # Debugging print\n",
    "\n",
    "        return jsonify({\"predicted_score\": round(predicted_score, 2)})\n",
    "\n",
    "    except Exception as e:\n",
    "        print(\"Error:\", str(e))  # Debugging print\n",
    "        return jsonify({\"error\": str(e)})\n",
    "\n",
    "if __name__ == \"__main__\":\n",
    "    app.run(debug=True)'''\n"
   ]
  },
  {
   "cell_type": "code",
   "execution_count": 1,
   "id": "a769aa79",
   "metadata": {},
   "outputs": [],
   "source": [
    "'''import pandas as pd\n",
    "from flask import Flask, render_template, request, jsonify\n",
    "import numpy as np\n",
    "from xgboost import XGBRegressor\n",
    "\n",
    "app = Flask(__name__)\n",
    "\n",
    "# Load the trained model\n",
    "model = XGBRegressor()\n",
    "model.load_model(\"xgboost_model.json\")  # Ensure this file is in the same directory\n",
    "\n",
    "# Load mappings for teams and cities\n",
    "teams = pd.read_csv(\"team_mapping.csv\")\n",
    "teams_dict = teams.set_index(teams.columns[0])[teams.columns[1]].to_dict()\n",
    "\n",
    "cities = pd.read_csv(\"cities_mapping.csv\")\n",
    "cities_dict = cities.set_index(cities.columns[0])[cities.columns[1]].to_dict()\n",
    "\n",
    "@app.route(\"/\")\n",
    "def home():\n",
    "    print(request.args)\n",
    "    return render_template(\"Home.html\")'''"
   ]
  },
  {
   "cell_type": "code",
   "execution_count": 2,
   "id": "e19d3f5b",
   "metadata": {},
   "outputs": [],
   "source": [
    "'''@app.route(\"/predict\", methods=[\"POST\"])\n",
    "def predict():\n",
    "    try:\n",
    "        # Try to get JSON data first\n",
    "        #data = request.get_json()\n",
    "\n",
    "        # If JSON is not available, try form data\n",
    "        #if data is None:\n",
    "        data = request.form.to_dict()  # Convert form data to dictionary\n",
    "\n",
    "        print(\"Received Data:\", data)  # Debugging print\n",
    "\n",
    "        # Validate input\n",
    "        required_keys = [\"batting_team\", \"bowling_team\", \"city\", \"overs_completed\", \"wickets_down\", \"runs_chased\", \"target_runs\"]\n",
    "        missing_keys = [key for key in required_keys if key not in data]\n",
    "        \n",
    "        if missing_keys:\n",
    "            return jsonify({\"error\": f\"Missing keys: {', '.join(missing_keys)}\"}), 400\n",
    "\n",
    "        # Extract values\n",
    "        batting_team = int(data[\"batting_team\"])\n",
    "        bowling_team = int(data[\"bowling_team\"])\n",
    "        city = int(data[\"city\"])\n",
    "        overs_completed = float(data[\"overs_completed\"])\n",
    "        wickets_down = int(data[\"wickets_down\"])\n",
    "        runs_chased = int(data[\"runs_chased\"])\n",
    "        target_runs = int(data[\"target_runs\"])\n",
    "\n",
    "        print(f\"Processed Inputs - Batting Team: {batting_team}, Bowling Team: {bowling_team}, City: {city}, Overs: {overs_completed}, Wickets: {wickets_down}, Runs: {runs_chased}, Target: {target_runs}\")\n",
    "\n",
    "        # Calculate additional features\n",
    "        balls_left = max(0, (20 - overs_completed) * 6)  # Avoid negative values\n",
    "        runs_left = max(0, target_runs - runs_chased) if target_runs > 0 else 0\n",
    "        crr = runs_chased / overs_completed if overs_completed > 0 else 0\n",
    "        rrr = (runs_left / (balls_left / 6)) if balls_left > 0 else 0\n",
    "        wickets_in_hand = max(0, 10 - wickets_down)  # Avoid negative values\n",
    "\n",
    "        # Prepare input for model\n",
    "        features = np.array([[0, batting_team, bowling_team, city, runs_left, balls_left, wickets_in_hand, crr, rrr]])\n",
    "\n",
    "        # Make prediction\n",
    "        predicted_score = model.predict(features)[0]\n",
    "        print(\"Predicted Score:\", predicted_score)  # Debugging print\n",
    "\n",
    "        return jsonify({\"predicted_score\": round(predicted_score, 2)})\n",
    "\n",
    "    except Exception as e:\n",
    "        print(\"Error:\", str(e))  # Debugging print\n",
    "        return jsonify({\"error\": f\"An error occurred: {str(e)}\"}), 500\n",
    "'''"
   ]
  },
  {
   "cell_type": "code",
   "execution_count": 8,
   "id": "e88a232e",
   "metadata": {},
   "outputs": [
    {
     "name": "stdout",
     "output_type": "stream",
     "text": [
      " * Serving Flask app '__main__'\n",
      " * Debug mode: on\n"
     ]
    },
    {
     "name": "stderr",
     "output_type": "stream",
     "text": [
      "WARNING: This is a development server. Do not use it in a production deployment. Use a production WSGI server instead.\n",
      " * Running on http://127.0.0.1:5000\n",
      "Press CTRL+C to quit\n",
      " * Restarting with watchdog (windowsapi)\n"
     ]
    },
    {
     "ename": "SystemExit",
     "evalue": "1",
     "output_type": "error",
     "traceback": [
      "An exception has occurred, use %tb to see the full traceback.\n",
      "\u001b[1;31mSystemExit\u001b[0m\u001b[1;31m:\u001b[0m 1\n"
     ]
    },
    {
     "name": "stderr",
     "output_type": "stream",
     "text": [
      "C:\\Users\\manvi\\anaconda3\\Lib\\site-packages\\IPython\\core\\interactiveshell.py:3513: UserWarning: To exit: use 'exit', 'quit', or Ctrl-D.\n",
      "  warn(\"To exit: use 'exit', 'quit', or Ctrl-D.\", stacklevel=1)\n"
     ]
    }
   ],
   "source": [
    "'''if __name__ == \"__main__\":\n",
    "    app.run(debug=True)'''"
   ]
  },
  {
   "cell_type": "code",
   "execution_count": 3,
   "id": "a3389be7",
   "metadata": {},
   "outputs": [
    {
     "name": "stdout",
     "output_type": "stream",
     "text": [
      " * Serving Flask app '__main__'\n",
      " * Debug mode: on\n"
     ]
    },
    {
     "name": "stderr",
     "output_type": "stream",
     "text": [
      "WARNING: This is a development server. Do not use it in a production deployment. Use a production WSGI server instead.\n",
      " * Running on http://127.0.0.1:5000\n",
      "Press CTRL+C to quit\n",
      " * Restarting with watchdog (windowsapi)\n"
     ]
    },
    {
     "ename": "SystemExit",
     "evalue": "1",
     "output_type": "error",
     "traceback": [
      "An exception has occurred, use %tb to see the full traceback.\n",
      "\u001b[1;31mSystemExit\u001b[0m\u001b[1;31m:\u001b[0m 1\n"
     ]
    },
    {
     "name": "stderr",
     "output_type": "stream",
     "text": [
      "C:\\Users\\manvi\\anaconda3\\Lib\\site-packages\\IPython\\core\\interactiveshell.py:3513: UserWarning: To exit: use 'exit', 'quit', or Ctrl-D.\n",
      "  warn(\"To exit: use 'exit', 'quit', or Ctrl-D.\", stacklevel=1)\n"
     ]
    }
   ],
   "source": [
    "from flask import Flask, render_template, request, jsonify\n",
    "import numpy as np\n",
    "import pandas as pd\n",
    "from xgboost import XGBRegressor\n",
    "\n",
    "app = Flask(__name__)\n",
    "\n",
    "# Load the trained model\n",
    "model = XGBRegressor()\n",
    "model.load_model(\"xgboost_model.json\")  # Ensure this file is in the same directory\n",
    "\n",
    "# Load mappings for teams and cities\n",
    "teams = pd.read_csv(\"team_mapping.csv\")\n",
    "teams_dict = teams.set_index(teams.columns[0])[teams.columns[1]].to_dict()\n",
    "\n",
    "cities = pd.read_csv(\"cities_mapping.csv\")\n",
    "cities_dict = cities.set_index(cities.columns[0])[cities.columns[1]].to_dict()\n",
    "\n",
    "@app.route(\"/\", methods=[\"GET\", \"POST\"])\n",
    "def home():\n",
    "    predicted_score = None\n",
    "    error_message = None\n",
    "\n",
    "    if request.method == \"POST\":\n",
    "        try:\n",
    "            # Extract form data\n",
    "            batting_team = int(request.form[\"batting_team\"])\n",
    "            bowling_team = int(request.form[\"bowling_team\"])\n",
    "            city = int(request.form[\"city\"])\n",
    "            overs_completed = float(request.form[\"overs_completed\"])\n",
    "            wickets_down = int(request.form[\"wickets_down\"])\n",
    "            runs_chased = int(request.form[\"runs_chased\"])\n",
    "            target_runs = int(request.form[\"target_runs\"])\n",
    "\n",
    "            # Calculate additional features\n",
    "            balls_left = max(0, (20 - overs_completed) * 6)\n",
    "            runs_left = max(0, target_runs - runs_chased) if target_runs > 0 else 0\n",
    "            crr = runs_chased / overs_completed if overs_completed > 0 else 0\n",
    "            rrr = (runs_left / (balls_left / 6)) if balls_left > 0 else 0\n",
    "            wickets_in_hand = max(0, 10 - wickets_down)\n",
    "\n",
    "            # Prepare input for model\n",
    "            features = np.array([[0, batting_team, bowling_team, city, runs_left, balls_left, wickets_in_hand, crr, rrr]])\n",
    "\n",
    "            # Make prediction\n",
    "            predicted_score = round(model.predict(features)[0], 2)\n",
    "\n",
    "        except Exception as e:\n",
    "            error_message = f\"An error occurred: {str(e)}\"\n",
    "\n",
    "    return render_template(\"index.html\", predicted_score=predicted_score, error_message=error_message, teams=teams_dict, cities=cities_dict)\n",
    "\n",
    "if __name__ == \"__main__\":\n",
    "    app.run(debug=True)\n"
   ]
  },
  {
   "cell_type": "code",
   "execution_count": null,
   "id": "cf320001",
   "metadata": {},
   "outputs": [],
   "source": []
  }
 ],
 "metadata": {
  "kernelspec": {
   "display_name": "Python 3 (ipykernel)",
   "language": "python",
   "name": "python3"
  },
  "language_info": {
   "codemirror_mode": {
    "name": "ipython",
    "version": 3
   },
   "file_extension": ".py",
   "mimetype": "text/x-python",
   "name": "python",
   "nbconvert_exporter": "python",
   "pygments_lexer": "ipython3",
   "version": "3.11.4"
  }
 },
 "nbformat": 4,
 "nbformat_minor": 5
}
